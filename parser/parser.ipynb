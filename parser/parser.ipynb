{
 "cells": [
  {
   "cell_type": "code",
   "execution_count": 1,
   "metadata": {},
   "outputs": [],
   "source": [
    "def generate_sql(tagged_query):\n",
    "    select_clause = \"SELECT \"\n",
    "    from_clause = \"FROM \" \n",
    "    where_clause = \"WHERE \"\n",
    "    val = {}\n",
    "    select = \"\"\n",
    "    From = \"\"\n",
    "    where = \"\"\n",
    "    join_clause = \"\"\n",
    "    \n",
    "    for token in tagged_query:\n",
    "        # if token[1] == \"ATTR\" or token[1] == \"ATTRREF\":\n",
    "        #     select += token[2]\n",
    "        if token[1] == \"TABLE\" or token[1] == \"TABLEREF\":\n",
    "            From += token[2] + \" \"\n",
    "        if token[1] == \"ATTR\" or token[1] == \"ATTRREF\":\n",
    "            select += token[2] + \" \"\n",
    "        if token[1] == \"VALUE\":\n",
    "            if token[2] not in val:\n",
    "                val[token[2]] = \"\"\n",
    "            val[token[2]]+=token[0]+\" \"\n",
    "\n",
    "    for key in val:\n",
    "        where += key + \" = \" + val[key]\n",
    "    \n",
    "    sql_query = \"\"\n",
    "    \n",
    "    if select != \"\":\n",
    "        sql_query += select_clause + select\n",
    "    else :\n",
    "        sql_query += select_clause + \"* \"\n",
    "    \n",
    "    if From != \"\":\n",
    "        sql_query += \" \" + from_clause + From\n",
    "    \n",
    "    if join_clause != \"\":\n",
    "        sql_query += \" \" + join_clause\n",
    "    \n",
    "    if where != \"\":\n",
    "        sql_query += \" \" + where_clause + where\n",
    "        \n",
    "    return sql_query\n"
   ]
  },
  {
   "cell_type": "code",
   "execution_count": 2,
   "metadata": {},
   "outputs": [
    {
     "ename": "ModuleNotFoundError",
     "evalue": "No module named 'pytorch'",
     "output_type": "error",
     "traceback": [
      "\u001b[0;31m---------------------------------------------------------------------------\u001b[0m",
      "\u001b[0;31mModuleNotFoundError\u001b[0m                       Traceback (most recent call last)",
      "\u001b[0;32m/tmp/ipykernel_552/3890166209.py\u001b[0m in \u001b[0;36m<module>\u001b[0;34m\u001b[0m\n\u001b[0;32m----> 1\u001b[0;31m \u001b[0;32mimport\u001b[0m \u001b[0mpytorch\u001b[0m\u001b[0;34m\u001b[0m\u001b[0;34m\u001b[0m\u001b[0m\n\u001b[0m",
      "\u001b[0;31mModuleNotFoundError\u001b[0m: No module named 'pytorch'"
     ]
    }
   ],
   "source": [
    "import pytorch"
   ]
  },
  {
   "cell_type": "code",
   "execution_count": 3,
   "metadata": {},
   "outputs": [],
   "source": [
    "query = \"FIND ALL ACTORS BORN IN Los Angeles\"\n",
    "tagged_query = [(\"Find\", \"OTHER\", \"OTHER\"), (\"all\", \"OTHER\", \"OTHER\"), (\"actors\",\"TABLE\", \"actor\"),  (\"born\", \"OTHER\", \"OTHER\"), (\"in\", \"COND\", \"COND\"), (\"Los\", \"VALUE\", \"person.birthplace\"), (\"Angeles\", \"VALUE\", \"person.birthplace\")]"
   ]
  },
  {
   "cell_type": "code",
   "execution_count": 4,
   "metadata": {},
   "outputs": [
    {
     "name": "stdout",
     "output_type": "stream",
     "text": [
      "SELECT *  FROM actor  WHERE person.birthplace = Los Angeles \n"
     ]
    }
   ],
   "source": [
    "sql_query = generate_sql(tagged_query)\n",
    "print(sql_query)"
   ]
  },
  {
   "cell_type": "code",
   "execution_count": 5,
   "metadata": {},
   "outputs": [],
   "source": [
    "db_schema = {\n",
    "    \"actors\": [\"name\", \"birthplace\", \"birthdate\"],\n",
    "}"
   ]
  },
  {
   "cell_type": "code",
   "execution_count": 6,
   "metadata": {},
   "outputs": [
    {
     "ename": "ModuleNotFoundError",
     "evalue": "No module named 'transformers'",
     "output_type": "error",
     "traceback": [
      "\u001b[0;31m---------------------------------------------------------------------------\u001b[0m",
      "\u001b[0;31mModuleNotFoundError\u001b[0m                       Traceback (most recent call last)",
      "\u001b[0;32m/tmp/ipykernel_552/3615961563.py\u001b[0m in \u001b[0;36m<module>\u001b[0;34m\u001b[0m\n\u001b[1;32m      1\u001b[0m \u001b[0;31m# generate sql query of from the natural language with the help of db schema\u001b[0m\u001b[0;34m\u001b[0m\u001b[0;34m\u001b[0m\u001b[0m\n\u001b[0;32m----> 2\u001b[0;31m \u001b[0;32mfrom\u001b[0m \u001b[0mtransformers\u001b[0m \u001b[0;32mimport\u001b[0m \u001b[0mpipeline\u001b[0m\u001b[0;34m,\u001b[0m \u001b[0mAutoTokenizer\u001b[0m\u001b[0;34m,\u001b[0m \u001b[0mAutoModelForTokenClassification\u001b[0m\u001b[0;34m\u001b[0m\u001b[0;34m\u001b[0m\u001b[0m\n\u001b[0m\u001b[1;32m      3\u001b[0m \u001b[0;34m\u001b[0m\u001b[0m\n\u001b[1;32m      4\u001b[0m \u001b[0mmodel_name\u001b[0m \u001b[0;34m=\u001b[0m \u001b[0;34m\"bert-base-cased\"\u001b[0m\u001b[0;34m\u001b[0m\u001b[0;34m\u001b[0m\u001b[0m\n\u001b[1;32m      5\u001b[0m \u001b[0mtokenizer\u001b[0m \u001b[0;34m=\u001b[0m \u001b[0mAutoTokenizer\u001b[0m\u001b[0;34m.\u001b[0m\u001b[0mfrom_pretrained\u001b[0m\u001b[0;34m(\u001b[0m\u001b[0mmodel_name\u001b[0m\u001b[0;34m)\u001b[0m\u001b[0;34m\u001b[0m\u001b[0;34m\u001b[0m\u001b[0m\n",
      "\u001b[0;31mModuleNotFoundError\u001b[0m: No module named 'transformers'"
     ]
    }
   ],
   "source": [
    "# generate sql query of from the natural language with the help of db schema\n",
    "from transformers import pipeline, AutoTokenizer, AutoModelForTokenClassification\n",
    "\n",
    "model_name = \"bert-base-cased\"\n",
    "tokenizer = AutoTokenizer.from_pretrained(model_name)\n",
    "model = AutoModelForTokenClassification.from_pretrained(model_name)\n",
    "\n",
    "def generate_sql(query, db_schema):\n",
    "    nlp = pipeline(\"ner\", model=model, tokenizer=tokenizer)\n",
    "    tagged_query = nlp(query)\n",
    "    sql_query = generate_sql(tagged_query)\n",
    "    return sql_query\n",
    "\n"
   ]
  },
  {
   "cell_type": "code",
   "execution_count": null,
   "metadata": {},
   "outputs": [],
   "source": []
  }
 ],
 "metadata": {
  "kernelspec": {
   "display_name": "base",
   "language": "python",
   "name": "python3"
  },
  "language_info": {
   "codemirror_mode": {
    "name": "ipython",
    "version": 3
   },
   "file_extension": ".py",
   "mimetype": "text/x-python",
   "name": "python",
   "nbconvert_exporter": "python",
   "pygments_lexer": "ipython3",
   "version": "3.9.7"
  },
  "orig_nbformat": 4
 },
 "nbformat": 4,
 "nbformat_minor": 2
}
